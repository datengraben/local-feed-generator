{
 "cells": [
  {
   "cell_type": "code",
   "execution_count": 157,
   "id": "a08b9d8f",
   "metadata": {},
   "outputs": [],
   "source": [
    "import re\n",
    "import requests\n",
    "import bs4\n",
    "import datetime\n",
    "\n",
    "import rfeed\n",
    "\n",
    "import locale\n",
    "\n",
    "locale.setlocale(\n",
    "    category=locale.LC_ALL,\n",
    "    locale=\"\"  # Note: do not use \"de_DE\" as it doesn't work\n",
    ")\n",
    "\n",
    "headers = {\n",
    "    'User-Agent': 'Mozilla/5.0 (Windows NT 10.0; Win64; x64) AppleWebKit/537.36 (KHTML, like Gecko) Chrome/102.0.0.0 Safari/537.36'\n",
    "}\n",
    "\n",
    "headers = {\n",
    "    \"accept\": \"text/html,application/xhtml+xml,application/xml;q=0.9,image/avif,image/webp,image/apng,*/*;q=0.8,application/signed-exchange;v=b3;q=0.9\",\n",
    "    \"accept-language\": \"de-DE,de;q=0.9,en-US;q=0.8,en;q=0.7\",\n",
    "    \"cache-control\": \"no-cache\",\n",
    "    \"pragma\": \"no-cache\",\n",
    "    \"sec-ch-ua\": \"\\\"Chromium\\\";v=\\\"109\\\", \\\"Not_A Brand\\\";v=\\\"99\\\"\",\n",
    "    \"sec-ch-ua-mobile\": \"?0\",\n",
    "    \"sec-ch-ua-platform\": \"\\\"Linux\\\"\",\n",
    "    \"sec-fetch-dest\": \"document\",\n",
    "    \"sec-fetch-mode\": \"navigate\",\n",
    "    \"sec-fetch-site\": \"none\",\n",
    "    \"sec-fetch-user\": \"?1\",\n",
    "    \"sec-gpc\": \"1\",\n",
    "    \"upgrade-insecure-requests\": \"1\",\n",
    "    \"cookie\": \"cookielawinfo-checkbox-necessary=yes; cookielawinfo-checkbox-functional=no; cookielawinfo-checkbox-performance=no; cookielawinfo-checkbox-analytics=no; cookielawinfo-checkbox-advertisement=no; cookielawinfo-checkbox-others=no\",\n",
    "    \"user-agent\": \"Mozilla/5.0 (X11; Linux x86_64) AppleWebKit/537.36 (KHTML, like Gecko) Chrome/109.0.0.0 Safari/537.36\"\n",
    "  }\n",
    "\n",
    "def get_text(url):\n",
    "    return bs4.BeautifulSoup(requests.get(url.strip(), headers=headers, timeout=10).text)\n",
    "\n",
    "def localdt(str_val, pattern):\n",
    "    dt = datetime.datetime.strptime(str_val, pattern)\n",
    "    return pytz.timezone('Europe/Berlin').localize(dt)"
   ]
  },
  {
   "cell_type": "code",
   "execution_count": 123,
   "id": "9c660bd2",
   "metadata": {},
   "outputs": [],
   "source": [
    "# scrape events\n",
    "#resp = requests.get(EVENTS)\n",
    "#events = list(map(lambda x: (x.text, x['href']), bs4.BeautifulSoup(resp.text).select('h2.entry-title > a')))\n"
   ]
  },
  {
   "cell_type": "code",
   "execution_count": 12,
   "id": "e7ec1760",
   "metadata": {},
   "outputs": [],
   "source": [
    "import re"
   ]
  },
  {
   "cell_type": "code",
   "execution_count": 35,
   "id": "be4e65a4",
   "metadata": {},
   "outputs": [],
   "source": [
    "def get_date(s):\n",
    "    return re.search('[0-9][0-9]\\.? (Januar|Februar|März|April|Mai|Juni|Juli|August|September|Oktober|November|Dezember)? [0-9]{2,4}', s)"
   ]
  },
  {
   "cell_type": "code",
   "execution_count": 25,
   "id": "9e87df56",
   "metadata": {},
   "outputs": [
    {
     "data": {
      "text/plain": [
       "<re.Match object; span=(911, 917), match='12 Uhr'>"
      ]
     },
     "execution_count": 25,
     "metadata": {},
     "output_type": "execute_result"
    }
   ],
   "source": [
    "re.search('[0-9]{,2} Uhr', p.text)"
   ]
  },
  {
   "cell_type": "code",
   "execution_count": 30,
   "id": "126838e0",
   "metadata": {},
   "outputs": [
    {
     "ename": "TypeError",
     "evalue": "'NoneType' object is not subscriptable",
     "output_type": "error",
     "traceback": [
      "\u001b[0;31m---------------------------------------------------------------------------\u001b[0m",
      "\u001b[0;31mTypeError\u001b[0m                                 Traceback (most recent call last)",
      "\u001b[0;32m/tmp/ipykernel_8820/3521848093.py\u001b[0m in \u001b[0;36m<module>\u001b[0;34m\u001b[0m\n\u001b[0;32m----> 1\u001b[0;31m \u001b[0mre\u001b[0m\u001b[0;34m.\u001b[0m\u001b[0msearch\u001b[0m\u001b[0;34m(\u001b[0m\u001b[0;34m'findet.+statt'\u001b[0m\u001b[0;34m,\u001b[0m \u001b[0mp\u001b[0m\u001b[0;34m.\u001b[0m\u001b[0mtext\u001b[0m\u001b[0;34m)\u001b[0m\u001b[0;34m[\u001b[0m\u001b[0;36m0\u001b[0m\u001b[0;34m]\u001b[0m\u001b[0;34m\u001b[0m\u001b[0;34m\u001b[0m\u001b[0m\n\u001b[0m",
      "\u001b[0;31mTypeError\u001b[0m: 'NoneType' object is not subscriptable"
     ]
    }
   ],
   "source": [
    "re.search('findet.+statt', p.text)[0]"
   ]
  },
  {
   "cell_type": "code",
   "execution_count": 29,
   "id": "f5af124a",
   "metadata": {},
   "outputs": [],
   "source": [
    "p = get_info('https://werkstattkirche.de/veranstaltung/werkstattkirche-im-jokus-18-juni-2023/')"
   ]
  },
  {
   "cell_type": "code",
   "execution_count": 126,
   "id": "bca2139f",
   "metadata": {},
   "outputs": [
    {
     "data": {
      "text/plain": [
       "[('Supp‘ un‘ Schwätze am 23. Juli',\n",
       "  'https://werkstattkirche.de/veranstaltung/supp-un-schwaetze-am-23-juli/'),\n",
       " ('Werkstattkirche im Jokus 18. Juni 2023',\n",
       "  'https://werkstattkirche.de/veranstaltung/werkstattkirche-im-jokus-18-juni-2023/'),\n",
       " ('Supp‘ un‘ Schwätze‘ mit der Werkstattkirche',\n",
       "  'https://werkstattkirche.de/veranstaltung/supp-un-schwaetze-mit-der-werkstattkirche/'),\n",
       " ('Charity Flohmarkt: Elektrogeräte',\n",
       "  'https://werkstattkirche.de/neuigkeiten/charity-flohmarkt-elektrogeraete/'),\n",
       " ('Tomorrathon 24. – 26. Juni 2022',\n",
       "  'https://werkstattkirche.de/veranstaltung/tomorrathon-24-26-juni-2022/'),\n",
       " ('Maria und Josef ziehen durch Gießen…?',\n",
       "  'https://werkstattkirche.de/neuigkeiten/maria-und-josef-ziehen-durch-giessen/'),\n",
       " ('Nikolaustag in der Nordstadt-KiTa',\n",
       "  'https://werkstattkirche.de/veranstaltung/nikolaustag-in-der-nordstadt-kita/'),\n",
       " ('Barber Angels erneut zu Gast',\n",
       "  'https://werkstattkirche.de/veranstaltung/barber-angels-erneut-zu-gast/'),\n",
       " ('Ab 06.11.2019: Fotoausstellung der Werkstattkirche im Gießener Rathaus',\n",
       "  'https://werkstattkirche.de/veranstaltung/ab-06-11-2019-fotoausstellung-der-werkstattkirche-im-giessener-rathaus/')]"
      ]
     },
     "execution_count": 126,
     "metadata": {},
     "output_type": "execute_result"
    }
   ],
   "source": [
    "events"
   ]
  },
  {
   "cell_type": "code",
   "execution_count": 156,
   "id": "6266cc27",
   "metadata": {},
   "outputs": [],
   "source": []
  },
  {
   "cell_type": "markdown",
   "id": "f70e416d",
   "metadata": {},
   "source": [
    "# Start der Erstellung"
   ]
  },
  {
   "cell_type": "code",
   "execution_count": 159,
   "id": "61eb63a8",
   "metadata": {},
   "outputs": [],
   "source": [
    "from feedgen.feed import FeedGenerator\n",
    "\n",
    "import pytz\n",
    "\n",
    "fg = FeedGenerator()\n",
    "fg.id('http://datengraben.com/lokal')\n",
    "fg.title('Gießen lokal')\n",
    "# fg.author( {'name': 'Chris', 'email': 'datengraben@gmx.de'})\n",
    "fg.link( href='http://datengraben.com', rel='alternate')\n",
    "fg.link( href='http://datengraben.com/giessen-lokal.atom', rel='self' )\n",
    "fg.language('de')\n",
    "\n",
    "all_posts = []"
   ]
  },
  {
   "cell_type": "markdown",
   "id": "ab55a438",
   "metadata": {},
   "source": [
    "# Werkstatt-Kirche\n",
    "- [x] fertig"
   ]
  },
  {
   "cell_type": "code",
   "execution_count": 160,
   "id": "9c419dc6",
   "metadata": {
    "scrolled": true
   },
   "outputs": [],
   "source": [
    "URL = 'https://werkstattkirche.de'\n",
    "POSTS = URL + '/neuigkeiten/'\n",
    "EVENTS = URL + '/category/veranstaltung'\n",
    "\n",
    "# scrape posts\n",
    "resp = requests.get(POSTS)\n"
   ]
  },
  {
   "cell_type": "code",
   "execution_count": 161,
   "id": "b149988b",
   "metadata": {},
   "outputs": [
    {
     "name": "stdout",
     "output_type": "stream",
     "text": [
      "Importiere: 11\n"
     ]
    }
   ],
   "source": [
    "posts = list(map(lambda x: {'title': x.select('h2.eael-entry-title > a')[0].text,\n",
    "                    'link': x.select('h2.eael-entry-title > a')[0]['href'],\n",
    "                    'date-raw': x.select('time')[0]['datetime'],\n",
    "                    'date-posted': localdt(x.select('time')[0]['datetime'], '%d. %B %Y'),\n",
    "                    'text': x.select('p')[0].text,\n",
    "                    'author-name': 'Werkstatt-Kirche',\n",
    "                    'author-email': 'info@werkstattkirche.de'\n",
    "                           }, bs4.BeautifulSoup(resp.text).select('article')))\n",
    "print(\"Importiere:\", len(posts))\n",
    "all_posts+=posts"
   ]
  },
  {
   "cell_type": "markdown",
   "id": "8288902d",
   "metadata": {},
   "source": [
    "# Gießen.de\n",
    "\n",
    "- [x] fertig"
   ]
  },
  {
   "cell_type": "code",
   "execution_count": 162,
   "id": "c030b982",
   "metadata": {},
   "outputs": [],
   "source": [
    "year = 2023\n",
    "url = 'https://www.giessen.de/Rathaus/Newsroom/Aktuelle-Meldungen/index.php?ModID=255&object=tx%2C2874.5.1&La=1&NavID=1894.87&text=&kat=8.51&jahr={}&startkat=2874.229'.format(year)\n",
    "resp = requests.get(url, headers)"
   ]
  },
  {
   "cell_type": "code",
   "execution_count": 163,
   "id": "7206f75d",
   "metadata": {},
   "outputs": [
    {
     "name": "stdout",
     "output_type": "stream",
     "text": [
      "Importiere: 25\n"
     ]
    }
   ],
   "source": [
    "posts = list(map(lambda x:\n",
    "         {\n",
    "             'title': x.select('h4')[0].text,\n",
    "             'link': 'http://giessen.de' + x.select('a')[0]['href'],\n",
    "             'date-posted': localdt(x.select('small.date')[0].text, '%d.%m.%Y'),\n",
    "             'date-raw': '',\n",
    "             'text': '',\n",
    "             'author-name': 'Stadt - Aktuelle Meldungen',\n",
    "             'author-email': 'info@giessen.de'\n",
    "         },\n",
    "         bs4.BeautifulSoup(resp.text).select('article')))\n",
    "print(\"Importiere:\", len(posts))\n",
    "all_posts+=posts\n"
   ]
  },
  {
   "cell_type": "markdown",
   "id": "c45180ff",
   "metadata": {},
   "source": [
    "# Stadtwerke Gießen\n",
    "\n",
    "Ist sicher in der Gießener Zeug enthalten.\n",
    "\n",
    "- [x] fertig\n"
   ]
  },
  {
   "cell_type": "code",
   "execution_count": 164,
   "id": "215f1054",
   "metadata": {},
   "outputs": [],
   "source": [
    "url = 'https://www.swg-konzern.de/presse/archiv/jahr/2023'\n",
    "resp = requests.get(url, headers)"
   ]
  },
  {
   "cell_type": "code",
   "execution_count": 165,
   "id": "cb2886c4",
   "metadata": {},
   "outputs": [
    {
     "name": "stdout",
     "output_type": "stream",
     "text": [
      "Importiere: 12\n"
     ]
    }
   ],
   "source": [
    "posts = list(map(lambda x: \n",
    "         {\n",
    "           'title': x['title'],\n",
    "           'link': 'http://www.swg-konzern.de' + x['href'],\n",
    "           'text': x.select('div.teaser-text')[0].text,\n",
    "           'date-raw': x.select('time')[0]['datetime'],\n",
    "           'date-posted': localdt(x.select('time')[0]['datetime'], '%Y-%m-%d'),\n",
    "           'author-name': 'SWG',\n",
    "           'author-email': 'info@swg-konzern.de'\n",
    "         },\n",
    "         bs4.BeautifulSoup(resp.text).select('.news-list > a')))\n",
    "print(\"Importiere:\", len(posts))\n",
    "all_posts+=posts"
   ]
  },
  {
   "cell_type": "markdown",
   "id": "75a6a9ef",
   "metadata": {},
   "source": [
    "# Stadttheater Gießen\n",
    "\n",
    "- [x] fertig"
   ]
  },
  {
   "cell_type": "code",
   "execution_count": 166,
   "id": "98561fb2",
   "metadata": {},
   "outputs": [],
   "source": [
    "import json \n",
    "resp = requests.get(\"https://stadttheater-giessen.de/de/ajax/?action=load_magazine&start=0&items=12\", \n",
    "             headers={\n",
    "    \"accept\": \"application/json, text/javascript, */*; q=0.01\",\n",
    "    \"accept-language\": \"de-DE,de;q=0.9,en-US;q=0.8,en;q=0.7\",\n",
    "    \"sec-ch-ua\": \"\\\"Chromium\\\";v=\\\"109\\\", \\\"Not_A Brand\\\";v=\\\"99\\\"\",\n",
    "    \"sec-ch-ua-mobile\": \"?0\",\n",
    "    \"sec-ch-ua-platform\": \"\\\"Linux\\\"\",\n",
    "    \"sec-fetch-dest\": \"empty\",\n",
    "    \"sec-fetch-mode\": \"cors\",\n",
    "    \"sec-fetch-site\": \"same-origin\",\n",
    "    \"sec-gpc\": \"1\",\n",
    "    \"x-requested-with\": \"XMLHttpRequest\",\n",
    "    \"cookie\": \"wires=380e9468b111d143eeb61efe552e61d4; theme=pink\",\n",
    "    \"Referer\": \"https://stadttheater-giessen.de/\",\n",
    "    \"Referrer-Policy\": \"strict-origin-when-cross-origin\"\n",
    "  })\n",
    "data = json.loads(resp.text)"
   ]
  },
  {
   "cell_type": "code",
   "execution_count": 167,
   "id": "9ac4f7b7",
   "metadata": {},
   "outputs": [
    {
     "name": "stdout",
     "output_type": "stream",
     "text": [
      "Einträge: 12\n"
     ]
    }
   ],
   "source": [
    "posts = list(map(lambda x:\n",
    "                    {\n",
    "                        'title': x['title'] + \" - \" + x['magazine_excerpt'][:30] + \"...\",\n",
    "                        'link': 'http://stadttheater-giessen.de' + x['url'],\n",
    "                        'date-posted': pytz.timezone('Europe/Berlin').localize(datetime.datetime.now()),\n",
    "                        'author-name': 'Stadttheater',\n",
    "                        'author-email': 'info@stadttheater-giessen.de'\n",
    "                    },\n",
    "                    data['data']))\n",
    "print(\"Einträge:\", len(posts))\n",
    "all_posts += posts"
   ]
  },
  {
   "cell_type": "markdown",
   "id": "3af7ff48",
   "metadata": {},
   "source": [
    "# Stadt Gießen amtliche Bekanntmachung\n",
    "\n",
    "- [x] fertig"
   ]
  },
  {
   "cell_type": "code",
   "execution_count": 168,
   "id": "92e52537",
   "metadata": {},
   "outputs": [],
   "source": [
    "url = 'https://www.giessen.de/Rathaus/Newsroom/Amtliche-Bekanntmachungen/'\n",
    "resp = requests.get(url, headers)"
   ]
  },
  {
   "cell_type": "code",
   "execution_count": 169,
   "id": "876a5fb4",
   "metadata": {},
   "outputs": [
    {
     "name": "stdout",
     "output_type": "stream",
     "text": [
      "Einträge: 2\n"
     ]
    }
   ],
   "source": [
    "posts = list(map(lambda x:\n",
    "         {\n",
    "             'title': x.select('a')[0].text,\n",
    "             'link': 'http://giessen.de' + x.select('a')[0]['href'],\n",
    "             'date-raw': x.select('small')[1].text.split(\":\")[1].strip(),\n",
    "             'date-posted': localdt(x.select('small')[1].text.split(\":\")[1].strip(), '%d.%m.%Y'),\n",
    "             'author-email': 'Amtliche Bekanntmachungen',\n",
    "             'author-name': 'presse@giessen.de'\n",
    "         },\n",
    "         bs4.BeautifulSoup(resp.text).select('.main-content-area')[0].select('ul > li')))\n",
    "print(\"Einträge:\", len(posts))\n",
    "all_posts += posts"
   ]
  },
  {
   "cell_type": "markdown",
   "id": "260832ab",
   "metadata": {},
   "source": [
    "# Oberhessisches Museum\n",
    "\n",
    "- [x] Fertig"
   ]
  },
  {
   "cell_type": "code",
   "execution_count": 170,
   "id": "5fe30d5c",
   "metadata": {},
   "outputs": [],
   "source": [
    "url = 'https://www.giessen.de/Erleben/Kultur/Museen-Ausstellungen/Oberhessisches-Museum/index.php?&object=tx,2874.5&ModID=255&call=suche&kat=2874.251&kuo=1&sfkat=0&sfmonat=0&sfjahr=0&k_sub=0&NavID=1894.209&La=1'\n",
    "resp = requests.get(url, headers)"
   ]
  },
  {
   "cell_type": "code",
   "execution_count": 171,
   "id": "1f9fe576",
   "metadata": {},
   "outputs": [
    {
     "name": "stdout",
     "output_type": "stream",
     "text": [
      "Einträge: 9\n"
     ]
    }
   ],
   "source": [
    "posts = list(map(lambda x:\n",
    "        {\n",
    "            'title': x.select('h4.liste-titel > a')[0].text,\n",
    "            'link': 'https://www.giessen.de' + x.select('h4.liste-titel > a')[0]['href'],\n",
    "            'date-raw': x.select('small.date')[0].text,\n",
    "            'date-posted': localdt(x.select('small.date')[0].text, '%d.%m.%Y'),\n",
    "            'author-email': 'Oberhessisches Museum',\n",
    "            'author-name': 'museum@giessen.de'\n",
    "        }, bs4.BeautifulSoup(resp.text).select('.main-content-area * article')))\n",
    "print(\"Einträge:\", len(posts))\n",
    "all_posts += posts"
   ]
  },
  {
   "cell_type": "markdown",
   "id": "3afe35bc",
   "metadata": {},
   "source": [
    "# Htize und Trockenheit\n",
    "\n",
    "- [x] Fertig"
   ]
  },
  {
   "cell_type": "code",
   "execution_count": 172,
   "id": "1d122c69",
   "metadata": {},
   "outputs": [],
   "source": [
    "import requests\n",
    "\n",
    "url = 'https://www.giessen.de/Rathaus/Newsroom/Aktuelle-Meldungen/index.php?NavID=2874.584.1'\n",
    "resp = requests.get(url, headers)\n"
   ]
  },
  {
   "cell_type": "code",
   "execution_count": 173,
   "id": "c6eb47c5",
   "metadata": {},
   "outputs": [
    {
     "name": "stdout",
     "output_type": "stream",
     "text": [
      "Einträge: 8\n"
     ]
    }
   ],
   "source": [
    "posts = list(map(lambda x:{\n",
    "    'title': x.select('h4 > a')[0].text,\n",
    "    'link': 'http://giessen.de' + x.select('h4 > a')[0]['href'],\n",
    "    'date-raw': x.select('small.date')[0].text,\n",
    "    'date-posted': localdt(x.select('small.date')[0].text, '%d.%m.%Y'),\n",
    "    'author-name': 'Stadt - Hitze und Trockenheit', \n",
    "    'author-email': ''\n",
    "}, bs4.BeautifulSoup(resp.text).select('section.mitteilungen > article')))\n",
    "print(\"Einträge:\", len(posts))\n",
    "all_posts += posts"
   ]
  },
  {
   "cell_type": "markdown",
   "id": "2e2144c4",
   "metadata": {},
   "source": [
    "# Erstellung des Atom-Feeds\n",
    "\n",
    "Testweise Erstellung um zu schauen ob alle Attribute gesetzt sind"
   ]
  },
  {
   "cell_type": "code",
   "execution_count": 175,
   "id": "0f5bd827",
   "metadata": {},
   "outputs": [
    {
     "name": "stdout",
     "output_type": "stream",
     "text": [
      "Importierte 79\n"
     ]
    }
   ],
   "source": [
    "i = 0\n",
    "\n",
    "for post in all_posts:\n",
    "    fe = fg.add_entry()\n",
    "    fe.id(post['link'])\n",
    "    fe.title(post['title'])\n",
    "    fe.source(post['link'])\n",
    "    fe.link(href=post['link'])\n",
    "    \n",
    "    if 'email' in post.keys():\n",
    "        post['author-email'] = post['email']\n",
    "    \n",
    "    fe.author({\n",
    "        'name': post['author-name'],\n",
    "        'email': post['author-email']})\n",
    "    \n",
    "    fe.pubDate(post['date-posted'])\n",
    "    # fe.updated(dt)\n",
    "    i+=1\n",
    "print(\"Importierte\", i)\n",
    "\n",
    "   \n",
    "atomfeed = fg.atom_str(pretty=True)\n",
    "fg.atom_file('/tmp/todelete.atom.xml')"
   ]
  },
  {
   "cell_type": "code",
   "execution_count": 176,
   "id": "2d19b23f",
   "metadata": {},
   "outputs": [],
   "source": [
    "# Validation\n",
    "\n",
    "for e in fg.entry():\n",
    "    if e.id() == None or e.title() == None:\n",
    "        print(e.id())"
   ]
  },
  {
   "cell_type": "markdown",
   "id": "fb944f0b",
   "metadata": {},
   "source": [
    "# Validierung des Feed"
   ]
  },
  {
   "cell_type": "code",
   "execution_count": 85,
   "id": "c5cdafc0",
   "metadata": {},
   "outputs": [],
   "source": [
    "import feedparser"
   ]
  },
  {
   "cell_type": "code",
   "execution_count": 181,
   "id": "97c716c5",
   "metadata": {},
   "outputs": [
    {
     "name": "stdout",
     "output_type": "stream",
     "text": [
      "Computed posts: 8\n"
     ]
    }
   ],
   "source": [
    "computed_posts = {}\n",
    "for e in posts:\n",
    "    computed_posts[e['link']] = e\n",
    "print(\"Computed posts:\", len(computed_posts))\n",
    "\n",
    "\n",
    "known_posts = {}\n",
    "for e in feedparser.parse('atom.xml')['entries']:\n",
    "    #print(e['published'], e['authors'][0]['name'], e['id'])\n",
    "    known_posts[e['id']] = e\n",
    "    \n",
    "# Für alle heute berechneten posts\n",
    "for entry in fg.entry():\n",
    "    # Wenn es einen Eintrag in der alten atom.xml mit dieser ID gibt,\n",
    "    # - Nimm dessen date-published in die neue atom.xml\n",
    "    if entry.id() in known_posts.keys():\n",
    "        existing_entry = known_posts[entry.id()]\n",
    "        last_time_created = localdt(existing_entry['published'][:19], '%Y-%m-%dT%H:%M:%S')\n",
    "        entry.pubDate(last_time_created)\n",
    "    \n",
    "    # Wenn nicht, \n",
    "    # - tue nichts (neue einträge haben ein valides date)"
   ]
  },
  {
   "cell_type": "code",
   "execution_count": 183,
   "id": "78a0ff1f",
   "metadata": {},
   "outputs": [],
   "source": [
    "atomfeed = fg.atom_str(pretty=True)\n",
    "fg.atom_file('atom.xml')"
   ]
  },
  {
   "cell_type": "code",
   "execution_count": null,
   "id": "8dd2c04c",
   "metadata": {},
   "outputs": [],
   "source": []
  }
 ],
 "metadata": {
  "kernelspec": {
   "display_name": "Python 3 (ipykernel)",
   "language": "python",
   "name": "python3"
  },
  "language_info": {
   "codemirror_mode": {
    "name": "ipython",
    "version": 3
   },
   "file_extension": ".py",
   "mimetype": "text/x-python",
   "name": "python",
   "nbconvert_exporter": "python",
   "pygments_lexer": "ipython3",
   "version": "3.10.12"
  }
 },
 "nbformat": 4,
 "nbformat_minor": 5
}
